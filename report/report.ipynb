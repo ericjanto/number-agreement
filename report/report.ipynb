{
 "cells": [
  {
   "cell_type": "markdown",
   "metadata": {},
   "source": [
    "# NLU+ Coursework 1: Recurrent Neural Networks\n",
    "\n",
    "## Introductory Remarks\n",
    "Something about our project the markers should be aware of.\n",
    "\n",
    "## Question 2: Language Modelling\n",
    "\n",
    "### a) Finetuning of hyperparameters\n",
    "- Load finetuning.csv into table\n",
    "- First sort by learning rate, then by hdim\n",
    "- Report best adjusted loss\n",
    "- Report how each parameter seems to affect loss\n",
    "- Report what you expected the results to be like and why"
   ]
  },
  {
   "cell_type": "code",
   "execution_count": null,
   "metadata": {},
   "outputs": [],
   "source": []
  }
 ],
 "metadata": {
  "language_info": {
   "name": "python"
  }
 },
 "nbformat": 4,
 "nbformat_minor": 2
}
